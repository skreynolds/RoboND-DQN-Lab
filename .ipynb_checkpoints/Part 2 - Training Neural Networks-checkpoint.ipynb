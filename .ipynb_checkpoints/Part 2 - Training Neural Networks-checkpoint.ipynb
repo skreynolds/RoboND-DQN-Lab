{
 "cells": [
  {
   "cell_type": "markdown",
   "metadata": {},
   "source": [
    "# Training Neural Networks\n",
    "\n",
    "The network we built in Part 1 is dumb, it doesn't know anything about our handwritten digits. Neural networks with non-linear activations work like universal function approximators. There is some function that maps your input to the output. For example, images of handwritten digits to class probabilities. The power of neural networks is that we can train them to approximate this function, and basically any function given enough data and compute time.\n",
    "\n",
    "<img src=\"assets/function_approx.png\" width=500px>\n",
    "\n",
    "At first the network is naive, it doesn't know the function mapping the inputs to the outputs. We train the network by showing it examples of real data, then adjusting the network parameters such that it approximates this function.\n",
    "\n",
    "To find these parameters, we need to know how poorly the network is predicting the real outputs. For this we calculate a **loss function** (also called the cost), a measure of our prediction error. For example, the mean squared loss is often used in regression and binary classification problems\n",
    "\n",
    "$$\n",
    "C = \\frac{1}{2n}\\sum_i^n{\\left(y_i - \\hat{y}_i\\right)^2}\n",
    "$$\n",
    "\n",
    "where $n$ is the number of training examples, $y_i$ are the true labels, and $\\hat{y}_i$ are the predicted labels.\n",
    "\n",
    "By minimizing this loss with respect to the network parameters, we can find configurations where the loss is at a minimum and the network is able to predict the correct labels with high accuracy. We find this minimum using a process called **gradient descent**. The gradient is the slope of the loss function and points in the direction of fastest change. To get to the minimum in the least amount of time, we then want to follow the gradient (downwards). You can think of this like descending a mountain by following the steepest slope to the base.\n",
    "\n",
    "<img src='assets/gradient_descent.png' width=350px>"
   ]
  },
  {
   "cell_type": "markdown",
   "metadata": {},
   "source": [
    "## Backpropagation\n",
    "\n",
    "For single layer networks, gradient descent is simple to implement. However, it's more complicated for deeper, multilayer neural networks like the one we've built. Complicated enough that it took about 30 years before researchers figured out how to train multilayer networks, although it's straightforward once you learn about it. \n",
    "\n",
    "This is done through **backpropagation** which is really just an application of the chain rule from calculus. It's easiest to understand if we convert a two layer network into a graph representation.\n",
    "\n",
    "<img src='assets/w1_backprop_graph.png' width=400px>\n",
    "\n",
    "In the forward pass through the network, our data and operations go from right to left here. To train the weights with gradient descent, we propagate the gradient of the cost backwards through the network. Mathematically, this is really just calculating the gradient of the loss with respect to the weights using the chain rule.\n",
    "\n",
    "$$\n",
    "\\frac{\\partial C}{\\partial w_1} = \\frac{\\partial l_1}{\\partial w_1} \\frac{\\partial s}{\\partial l_1} \\frac{\\partial l_2}{\\partial s} \\frac{\\partial C}{\\partial l_2}\n",
    "$$\n",
    "\n",
    "We update our weights using this gradient with some learning rate $\\alpha$. \n",
    "\n",
    "$$\n",
    "w^\\prime = w - \\alpha \\frac{\\partial C}{\\partial w}\n",
    "$$\n",
    "\n",
    "The learning rate is set such that the weight update steps are small enough that the iterative method settles in a minimum.\n",
    "\n",
    "The first thing we need to do for training is define our loss function. In PyTorch, you'll usually see this as `criterion`. Here we're using softmax output, so we want to use `criterion = nn.CrossEntropyLoss()` as our loss. Later when training, you use `loss = criterion(output, targets)` to calculate the actual loss.\n",
    "\n",
    "We also need to define the optimizer we're using, SGD or Adam, or something along those lines. Here I'll just use SGD with `torch.optim.SGD`, passing in the network parameters and the learning rate."
   ]
  },
  {
   "cell_type": "markdown",
   "metadata": {
    "collapsed": true
   },
   "source": [
    "## Autograd\n",
    "\n",
    "Torch provides a module, `autograd`, for automatically calculating the gradient of tensors. It does this by keeping track of operations performed on tensors. For PyTorch to track operations, you need to wrap a tensor with the `Variable` class from `torch.autograd`. You can get the tensor back with the `.data` attribute of the Variable.\n",
    "\n",
    "The gradients are computed with respect to some variable `z` with `z.backward()`. This does a backward pass through the operations that created `z`."
   ]
  },
  {
   "cell_type": "code",
   "execution_count": 1,
   "metadata": {
    "collapsed": true
   },
   "outputs": [],
   "source": [
    "%matplotlib inline\n",
    "%config InlineBackend.figure_format = 'retina'\n",
    "\n",
    "import numpy as np\n",
    "import time\n",
    "\n",
    "import torch\n",
    "from torch import nn\n",
    "from torch import optim\n",
    "import torch.nn.functional as F\n",
    "from torch.autograd import Variable\n",
    "\n",
    "import helper"
   ]
  },
  {
   "cell_type": "code",
   "execution_count": 2,
   "metadata": {},
   "outputs": [
    {
     "data": {
      "text/plain": [
       "tensor([[1., 1.],\n",
       "        [1., 1.]], requires_grad=True)"
      ]
     },
     "execution_count": 2,
     "metadata": {},
     "output_type": "execute_result"
    }
   ],
   "source": [
    "x = torch.ones(2,2)\n",
    "x = Variable(x, requires_grad=True)\n",
    "x"
   ]
  },
  {
   "cell_type": "code",
   "execution_count": 3,
   "metadata": {},
   "outputs": [
    {
     "data": {
      "text/plain": [
       "tensor([[12., 12.],\n",
       "        [12., 12.]], grad_fn=<MulBackward0>)"
      ]
     },
     "execution_count": 3,
     "metadata": {},
     "output_type": "execute_result"
    }
   ],
   "source": [
    "y = 3*(x+1)**2\n",
    "y"
   ]
  },
  {
   "cell_type": "markdown",
   "metadata": {},
   "source": [
    "Below we can see the operation that created `y`, a `MulConstant` op."
   ]
  },
  {
   "cell_type": "code",
   "execution_count": 4,
   "metadata": {},
   "outputs": [
    {
     "data": {
      "text/plain": [
       "<MulBackward0 at 0x7fcbd06f5a58>"
      ]
     },
     "execution_count": 4,
     "metadata": {},
     "output_type": "execute_result"
    }
   ],
   "source": [
    "## grad_fn shows the function that generated this variable\n",
    "y.grad_fn"
   ]
  },
  {
   "cell_type": "code",
   "execution_count": 5,
   "metadata": {},
   "outputs": [
    {
     "data": {
      "text/plain": [
       "tensor(12., grad_fn=<MeanBackward1>)"
      ]
     },
     "execution_count": 5,
     "metadata": {},
     "output_type": "execute_result"
    }
   ],
   "source": [
    "z = y.mean()\n",
    "z"
   ]
  },
  {
   "cell_type": "markdown",
   "metadata": {},
   "source": [
    "Again, we can check out how `z` was created, with a `Mean` operation."
   ]
  },
  {
   "cell_type": "code",
   "execution_count": 6,
   "metadata": {},
   "outputs": [
    {
     "data": {
      "text/plain": [
       "<MeanBackward1 at 0x7fcbd06f5668>"
      ]
     },
     "execution_count": 6,
     "metadata": {},
     "output_type": "execute_result"
    }
   ],
   "source": [
    "z.grad_fn"
   ]
  },
  {
   "cell_type": "markdown",
   "metadata": {},
   "source": [
    "Since we haven't performed a backward pass, `x` doesn't have a gradient yet."
   ]
  },
  {
   "cell_type": "code",
   "execution_count": 7,
   "metadata": {
    "collapsed": true
   },
   "outputs": [],
   "source": [
    "x.grad"
   ]
  },
  {
   "cell_type": "markdown",
   "metadata": {},
   "source": [
    "Now we can calculate the gradients of `z` with respect to `x` with `z.backward()`."
   ]
  },
  {
   "cell_type": "code",
   "execution_count": 8,
   "metadata": {},
   "outputs": [
    {
     "data": {
      "text/plain": [
       "tensor([[3., 3.],\n",
       "        [3., 3.]])"
      ]
     },
     "execution_count": 8,
     "metadata": {},
     "output_type": "execute_result"
    }
   ],
   "source": [
    "z.backward()\n",
    "x.grad"
   ]
  },
  {
   "cell_type": "markdown",
   "metadata": {},
   "source": [
    "These gradients calculations are particularly useful for neural networks. For training we need the gradients of the weights with respect to the cost. With PyTorch, we run data forward through the network to calculate the cost, then, go backwards to calculate the gradients with respect to the cost. Once we have the gradients we can make a gradient descent step. "
   ]
  },
  {
   "cell_type": "markdown",
   "metadata": {},
   "source": [
    "## Training the network!\n",
    "\n",
    "The first thing we need to do for training is define our loss function. In PyTorch, you'll usually see this as `criterion`. Here we're using softmax output, so we want to use `criterion = nn.CrossEntropyLoss()` as our loss. Later when training, you use `loss = criterion(output, targets)` to calculate the actual loss.\n",
    "\n",
    "We also need to define the optimizer we're using, SGD or Adam, or something along those lines. Here I'll just use SGD with `torch.optim.SGD`, passing in the network parameters and the learning rate."
   ]
  },
  {
   "cell_type": "code",
   "execution_count": 9,
   "metadata": {
    "collapsed": true
   },
   "outputs": [],
   "source": [
    "from torchvision import datasets, transforms\n",
    "\n",
    "# Define a transform to normalize the data\n",
    "transform = transforms.Compose([transforms.ToTensor(),\n",
    "                              transforms.Normalize((0.5, 0.5, 0.5), (0.5, 0.5, 0.5)),\n",
    "                             ])\n",
    "# Download and load the training data\n",
    "trainset = datasets.MNIST('MNIST_data/', download=True, train=True, transform=transform)\n",
    "trainloader = torch.utils.data.DataLoader(trainset, batch_size=64, shuffle=True)\n",
    "\n",
    "# Download and load the test data\n",
    "testset = datasets.MNIST('MNIST_data/', download=True, train=False, transform=transform)\n",
    "testloader = torch.utils.data.DataLoader(testset, batch_size=64, shuffle=True)"
   ]
  },
  {
   "cell_type": "code",
   "execution_count": 10,
   "metadata": {
    "collapsed": true
   },
   "outputs": [],
   "source": [
    "class Network(nn.Module):\n",
    "    def __init__(self):\n",
    "        super().__init__()\n",
    "        # Defining the layers, 200, 50, 10 units each\n",
    "        self.fc1 = nn.Linear(784, 200)\n",
    "        self.fc2 = nn.Linear(200, 50)\n",
    "        # Output layer, 10 units - one for each digit\n",
    "        self.fc3 = nn.Linear(50, 10)\n",
    "        \n",
    "    def forward(self, x):\n",
    "        ''' Forward pass through the network, returns the output logits '''\n",
    "        \n",
    "        x = self.fc1(x)\n",
    "        x = F.relu(x)\n",
    "        x = self.fc2(x)\n",
    "        x = F.relu(x)\n",
    "        x = self.fc3(x)\n",
    "        \n",
    "        return x\n",
    "    \n",
    "    def predict(self, x):\n",
    "        ''' This function for predicts classes by calculating the softmax '''\n",
    "        logits = self.forward(x)\n",
    "        return F.softmax(logits)"
   ]
  },
  {
   "cell_type": "code",
   "execution_count": 11,
   "metadata": {
    "collapsed": true
   },
   "outputs": [],
   "source": [
    "net = Network()\n",
    "criterion = nn.CrossEntropyLoss()\n",
    "optimizer = optim.SGD(net.parameters(), lr=0.01)"
   ]
  },
  {
   "cell_type": "markdown",
   "metadata": {},
   "source": [
    "First, let's consider just one learning step before looping through all the data. The general process with PyTorch:\n",
    "\n",
    "* Make a forward pass through the network to get the logits \n",
    "* Use the logits to calculate the loss\n",
    "* Perform a backward pass through the network with `loss.backward()` to calculate the gradients\n",
    "* Take a step with the optimizer to update the weights\n",
    "\n",
    "Below I'll go through one training step and print out the weights and gradients so you can see how it changes."
   ]
  },
  {
   "cell_type": "code",
   "execution_count": 12,
   "metadata": {},
   "outputs": [
    {
     "name": "stdout",
     "output_type": "stream",
     "text": [
      "Initial weights -  Parameter containing:\n",
      "tensor([[-0.0257,  0.0207, -0.0291,  ...,  0.0136,  0.0103,  0.0087],\n",
      "        [ 0.0205, -0.0023, -0.0044,  ..., -0.0322,  0.0143, -0.0032],\n",
      "        [-0.0069, -0.0183, -0.0168,  ...,  0.0165, -0.0015, -0.0262],\n",
      "        ...,\n",
      "        [-0.0147, -0.0072,  0.0113,  ...,  0.0211, -0.0259, -0.0043],\n",
      "        [ 0.0267,  0.0340, -0.0025,  ..., -0.0208,  0.0128,  0.0143],\n",
      "        [ 0.0027,  0.0200, -0.0283,  ...,  0.0356,  0.0278,  0.0334]],\n",
      "       requires_grad=True)\n",
      "Gradient - tensor([[ 2.1082e-03,  2.1082e-03,  2.1082e-03,  ...,  2.1082e-03,\n",
      "          2.1082e-03,  2.1082e-03],\n",
      "        [ 1.3004e-03,  1.3004e-03,  1.3004e-03,  ...,  1.3004e-03,\n",
      "          1.3004e-03,  1.3004e-03],\n",
      "        [ 4.8718e-03,  4.8718e-03,  4.8718e-03,  ...,  4.8718e-03,\n",
      "          4.8718e-03,  4.8718e-03],\n",
      "        ...,\n",
      "        [-5.2514e-04, -5.2514e-04, -5.2514e-04,  ..., -5.2514e-04,\n",
      "         -5.2514e-04, -5.2514e-04],\n",
      "        [-1.4040e-05, -1.4040e-05, -1.4040e-05,  ..., -1.4040e-05,\n",
      "         -1.4040e-05, -1.4040e-05],\n",
      "        [-5.5172e-03, -5.5172e-03, -5.5172e-03,  ..., -5.5172e-03,\n",
      "         -5.5172e-03, -5.5172e-03]])\n"
     ]
    }
   ],
   "source": [
    "print('Initial weights - ', net.fc1.weight)\n",
    "\n",
    "dataiter = iter(trainloader)\n",
    "images, labels = dataiter.next()\n",
    "\n",
    "images.resize_(64, 784)\n",
    "\n",
    "# Create Variables for the inputs and targets\n",
    "inputs = Variable(images)\n",
    "targets = Variable(labels)\n",
    "\n",
    "# Clear the gradients from all Variables\n",
    "optimizer.zero_grad()\n",
    "\n",
    "# Forward pass, then backward pass, then update weights\n",
    "output = net.forward(inputs)\n",
    "loss = criterion(output, targets)\n",
    "loss.backward()\n",
    "print('Gradient -', net.fc1.weight.grad)\n",
    "optimizer.step()"
   ]
  },
  {
   "cell_type": "code",
   "execution_count": 13,
   "metadata": {},
   "outputs": [
    {
     "name": "stdout",
     "output_type": "stream",
     "text": [
      "Updated weights -  Parameter containing:\n",
      "tensor([[-0.0257,  0.0206, -0.0292,  ...,  0.0136,  0.0102,  0.0086],\n",
      "        [ 0.0205, -0.0024, -0.0044,  ..., -0.0323,  0.0143, -0.0032],\n",
      "        [-0.0070, -0.0184, -0.0168,  ...,  0.0165, -0.0016, -0.0262],\n",
      "        ...,\n",
      "        [-0.0147, -0.0072,  0.0113,  ...,  0.0211, -0.0259, -0.0043],\n",
      "        [ 0.0267,  0.0340, -0.0025,  ..., -0.0208,  0.0128,  0.0143],\n",
      "        [ 0.0028,  0.0200, -0.0282,  ...,  0.0357,  0.0278,  0.0334]],\n",
      "       requires_grad=True)\n"
     ]
    }
   ],
   "source": [
    "print('Updated weights - ', net.fc1.weight)"
   ]
  },
  {
   "cell_type": "markdown",
   "metadata": {},
   "source": [
    "### Training for real\n",
    "\n",
    "Now we'll put this algorithm into a loop so we can go through all the images. This is fairly straightforward. We'll loop through the mini-batches in our dataset, pass the data through the network to calculate the losses, get the gradients, then run the optimizer"
   ]
  },
  {
   "cell_type": "code",
   "execution_count": 14,
   "metadata": {
    "collapsed": true
   },
   "outputs": [],
   "source": [
    "net = Network()\n",
    "optimizer = optim.Adam(net.parameters(), lr=0.001)"
   ]
  },
  {
   "cell_type": "code",
   "execution_count": 15,
   "metadata": {},
   "outputs": [
    {
     "name": "stderr",
     "output_type": "stream",
     "text": [
      "/home/shane/anaconda3/envs/robo-env/lib/python3.5/site-packages/ipykernel_launcher.py:29: UserWarning: volatile was removed and now has no effect. Use `with torch.no_grad():` instead.\n",
      "/home/shane/anaconda3/envs/robo-env/lib/python3.5/site-packages/ipykernel_launcher.py:24: UserWarning: Implicit dimension choice for softmax has been deprecated. Change the call to include dim=X as an argument.\n"
     ]
    },
    {
     "name": "stdout",
     "output_type": "stream",
     "text": [
      "Epoch: 1/1 Loss: 2.1441 Test accuracy: 0.4501\n",
      "Epoch: 1/1 Loss: 1.6725 Test accuracy: 0.5754\n",
      "Epoch: 1/1 Loss: 1.2444 Test accuracy: 0.7412\n",
      "Epoch: 1/1 Loss: 0.9470 Test accuracy: 0.7914\n",
      "Epoch: 1/1 Loss: 0.7875 Test accuracy: 0.7830\n",
      "Epoch: 1/1 Loss: 0.7718 Test accuracy: 0.8023\n",
      "Epoch: 1/1 Loss: 0.6661 Test accuracy: 0.8487\n",
      "Epoch: 1/1 Loss: 0.5489 Test accuracy: 0.8538\n",
      "Epoch: 1/1 Loss: 0.5124 Test accuracy: 0.8542\n",
      "Epoch: 1/1 Loss: 0.5233 Test accuracy: 0.8534\n",
      "Epoch: 1/1 Loss: 0.4937 Test accuracy: 0.8565\n",
      "Epoch: 1/1 Loss: 0.5722 Test accuracy: 0.8817\n",
      "Epoch: 1/1 Loss: 0.4582 Test accuracy: 0.8502\n",
      "Epoch: 1/1 Loss: 0.5144 Test accuracy: 0.8753\n",
      "Epoch: 1/1 Loss: 0.4176 Test accuracy: 0.8808\n",
      "Epoch: 1/1 Loss: 0.3890 Test accuracy: 0.8877\n",
      "Epoch: 1/1 Loss: 0.4316 Test accuracy: 0.8903\n",
      "Epoch: 1/1 Loss: 0.4011 Test accuracy: 0.8785\n",
      "Epoch: 1/1 Loss: 0.4179 Test accuracy: 0.8885\n",
      "Epoch: 1/1 Loss: 0.3971 Test accuracy: 0.8864\n",
      "Epoch: 1/1 Loss: 0.3702 Test accuracy: 0.9015\n",
      "Epoch: 1/1 Loss: 0.3517 Test accuracy: 0.8996\n",
      "Epoch: 1/1 Loss: 0.3344 Test accuracy: 0.8964\n",
      "Epoch: 1/1 Loss: 0.3742 Test accuracy: 0.9009\n",
      "Epoch: 1/1 Loss: 0.4681 Test accuracy: 0.8901\n",
      "Epoch: 1/1 Loss: 0.3348 Test accuracy: 0.9046\n",
      "Epoch: 1/1 Loss: 0.3260 Test accuracy: 0.8954\n",
      "Epoch: 1/1 Loss: 0.3874 Test accuracy: 0.9034\n",
      "Epoch: 1/1 Loss: 0.3324 Test accuracy: 0.8874\n",
      "Epoch: 1/1 Loss: 0.3072 Test accuracy: 0.8969\n",
      "Epoch: 1/1 Loss: 0.3435 Test accuracy: 0.8994\n",
      "Epoch: 1/1 Loss: 0.3252 Test accuracy: 0.9050\n",
      "Epoch: 1/1 Loss: 0.3099 Test accuracy: 0.9082\n",
      "Epoch: 1/1 Loss: 0.3285 Test accuracy: 0.9118\n",
      "Epoch: 1/1 Loss: 0.2601 Test accuracy: 0.9142\n",
      "Epoch: 1/1 Loss: 0.3008 Test accuracy: 0.9066\n",
      "Epoch: 1/1 Loss: 0.2865 Test accuracy: 0.9108\n",
      "Epoch: 1/1 Loss: 0.2923 Test accuracy: 0.9041\n",
      "Epoch: 1/1 Loss: 0.2870 Test accuracy: 0.9141\n",
      "Epoch: 1/1 Loss: 0.3089 Test accuracy: 0.9140\n",
      "Epoch: 1/1 Loss: 0.3601 Test accuracy: 0.9056\n",
      "Epoch: 1/1 Loss: 0.3894 Test accuracy: 0.9066\n",
      "Epoch: 1/1 Loss: 0.3320 Test accuracy: 0.9080\n",
      "Epoch: 1/1 Loss: 0.2716 Test accuracy: 0.9075\n",
      "Epoch: 1/1 Loss: 0.3121 Test accuracy: 0.9121\n",
      "Epoch: 1/1 Loss: 0.2837 Test accuracy: 0.9166\n",
      "Epoch: 1/1 Loss: 0.2576 Test accuracy: 0.9206\n",
      "Epoch: 1/1 Loss: 0.3670 Test accuracy: 0.9206\n",
      "Epoch: 1/1 Loss: 0.3042 Test accuracy: 0.9080\n",
      "Epoch: 1/1 Loss: 0.2715 Test accuracy: 0.9121\n",
      "Epoch: 1/1 Loss: 0.3085 Test accuracy: 0.9023\n",
      "Epoch: 1/1 Loss: 0.3261 Test accuracy: 0.9217\n",
      "Epoch: 1/1 Loss: 0.2522 Test accuracy: 0.9212\n",
      "Epoch: 1/1 Loss: 0.2780 Test accuracy: 0.9247\n",
      "Epoch: 1/1 Loss: 0.2873 Test accuracy: 0.9214\n",
      "Epoch: 1/1 Loss: 0.2629 Test accuracy: 0.9213\n",
      "Epoch: 1/1 Loss: 0.2240 Test accuracy: 0.9256\n",
      "Epoch: 1/1 Loss: 0.2379 Test accuracy: 0.9166\n",
      "Epoch: 1/1 Loss: 0.2436 Test accuracy: 0.9220\n",
      "Epoch: 1/1 Loss: 0.2235 Test accuracy: 0.9254\n",
      "Epoch: 1/1 Loss: 0.3092 Test accuracy: 0.9152\n",
      "Epoch: 1/1 Loss: 0.2718 Test accuracy: 0.9269\n",
      "Epoch: 1/1 Loss: 0.2812 Test accuracy: 0.9150\n",
      "Epoch: 1/1 Loss: 0.2804 Test accuracy: 0.9213\n",
      "Epoch: 1/1 Loss: 0.2752 Test accuracy: 0.9225\n",
      "Epoch: 1/1 Loss: 0.1988 Test accuracy: 0.9241\n",
      "Epoch: 1/1 Loss: 0.2782 Test accuracy: 0.9264\n",
      "Epoch: 1/1 Loss: 0.2951 Test accuracy: 0.9190\n",
      "Epoch: 1/1 Loss: 0.2518 Test accuracy: 0.9195\n",
      "Epoch: 1/1 Loss: 0.3317 Test accuracy: 0.9247\n",
      "Epoch: 1/1 Loss: 0.2307 Test accuracy: 0.9254\n",
      "Epoch: 1/1 Loss: 0.3008 Test accuracy: 0.9269\n",
      "Epoch: 1/1 Loss: 0.2976 Test accuracy: 0.9330\n",
      "Epoch: 1/1 Loss: 0.3006 Test accuracy: 0.9248\n",
      "Epoch: 1/1 Loss: 0.2902 Test accuracy: 0.9271\n",
      "Epoch: 1/1 Loss: 0.2420 Test accuracy: 0.9178\n",
      "Epoch: 1/1 Loss: 0.2462 Test accuracy: 0.9300\n",
      "Epoch: 1/1 Loss: 0.2531 Test accuracy: 0.9303\n",
      "Epoch: 1/1 Loss: 0.2106 Test accuracy: 0.9275\n",
      "Epoch: 1/1 Loss: 0.2541 Test accuracy: 0.9311\n",
      "Epoch: 1/1 Loss: 0.2389 Test accuracy: 0.9294\n",
      "Epoch: 1/1 Loss: 0.2796 Test accuracy: 0.9251\n",
      "Epoch: 1/1 Loss: 0.2921 Test accuracy: 0.9270\n",
      "Epoch: 1/1 Loss: 0.2166 Test accuracy: 0.9266\n",
      "Epoch: 1/1 Loss: 0.2953 Test accuracy: 0.9155\n",
      "Epoch: 1/1 Loss: 0.2625 Test accuracy: 0.9226\n",
      "Epoch: 1/1 Loss: 0.2815 Test accuracy: 0.9282\n",
      "Epoch: 1/1 Loss: 0.2602 Test accuracy: 0.9320\n",
      "Epoch: 1/1 Loss: 0.1737 Test accuracy: 0.9320\n",
      "Epoch: 1/1 Loss: 0.2163 Test accuracy: 0.9315\n",
      "Epoch: 1/1 Loss: 0.2494 Test accuracy: 0.9304\n",
      "Epoch: 1/1 Loss: 0.2065 Test accuracy: 0.9371\n",
      "Epoch: 1/1 Loss: 0.2403 Test accuracy: 0.9305\n"
     ]
    }
   ],
   "source": [
    "epochs = 1\n",
    "steps = 0\n",
    "running_loss = 0\n",
    "print_every = 10\n",
    "for e in range(epochs):\n",
    "    for images, labels in iter(trainloader):\n",
    "        steps += 1\n",
    "        # Flatten MNIST images into a 784 long vector\n",
    "        images.resize_(images.size()[0], 784)\n",
    "\n",
    "        inputs = Variable(images)\n",
    "        targets = Variable(labels)\n",
    "        optimizer.zero_grad()\n",
    "        \n",
    "        output = net.forward(inputs)\n",
    "        loss = criterion(output, targets)\n",
    "        loss.backward()\n",
    "        optimizer.step()\n",
    "        \n",
    "        #running_loss += loss.data[0]\n",
    "        running_loss += loss.item()\n",
    "        \n",
    "        if steps % print_every == 0:\n",
    "            # Test accuracy\n",
    "            accuracy = 0\n",
    "            for ii, (images, labels) in enumerate(testloader):\n",
    "                \n",
    "                images = images.resize_(images.size()[0], 784)\n",
    "                inputs = Variable(images, volatile=True)\n",
    "                \n",
    "                predicted = net.predict(inputs).data\n",
    "                equality = (labels == predicted.max(1)[1])\n",
    "                accuracy += equality.type_as(torch.FloatTensor()).mean()\n",
    "            \n",
    "            print(\"Epoch: {}/{}\".format(e+1, epochs),\n",
    "                  \"Loss: {:.4f}\".format(running_loss/print_every),\n",
    "                  \"Test accuracy: {:.4f}\".format(accuracy/(ii+1)))\n",
    "            running_loss = 0"
   ]
  },
  {
   "cell_type": "code",
   "execution_count": 16,
   "metadata": {
    "collapsed": true
   },
   "outputs": [],
   "source": [
    "dataiter = iter(testloader)\n",
    "images, labels = dataiter.next()"
   ]
  },
  {
   "cell_type": "code",
   "execution_count": 17,
   "metadata": {},
   "outputs": [
    {
     "name": "stderr",
     "output_type": "stream",
     "text": [
      "/home/shane/anaconda3/envs/robo-env/lib/python3.5/site-packages/ipykernel_launcher.py:24: UserWarning: Implicit dimension choice for softmax has been deprecated. Change the call to include dim=X as an argument.\n"
     ]
    },
    {
     "data": {
      "image/png": "[encoded data removed]",
      "text/plain": [
       "<Figure size 432x504 with 2 Axes>"
      ]
     },
     "metadata": {
      "image/png": {
       "height": 197,
       "width": 370
      },
      "needs_background": "light"
     },
     "output_type": "display_data"
    }
   ],
   "source": [
    "img = images[0]\n",
    "ps = net.predict(Variable(img.resize_(1, 784)))\n",
    "helper.view_classify(img.resize_(1, 28, 28), ps)"
   ]
  },
  {
   "cell_type": "markdown",
   "metadata": {},
   "source": [
    "## Convolutional Networks\n",
    "\n",
    "<img src='assets/padding_strides.gif'>\n",
    "\n",
    "Next we'll check out how to build a **convolutional network** to classify MNIST images. By using weight sharing - multiple units with the same weights - convolutional layers are able to learn repeated patterns in your data. For example, a unit could learn the pattern for an eye, or a face, or lower level features like edges.\n",
    "\n",
    "Traditionally, convolutional layers are followed by max-pooling, where values in the convolutional layer are aggregated into a smaller layer. \n",
    "\n",
    "<img src='assets/Pooling_Simple_max.png' width=600px>\n",
    "\n",
    "These types of networks become really useful when you stack a bunch of layers, you make the network *deeper*. Typically you'll use a convolutional layer to change the depth, ReLU activation, then a max-pooling layer to reduce the height and width.\n",
    "\n",
    "<img src='assets/conv_net.jpg' width=600px>\n",
    "\n",
    "To finish off the network, you need to flatten the final convolutional layer into a normal fully-connected (dense) layer, then add more fully-connected layers as a classifier. The convolutional layers act as feature detectors that the classifier uses as inputs. Convolutional networks have been massively effective in image classification, object recognition, and even in natural language processing applications like speech generation.\n",
    "\n",
    "Building this new network is pretty much the same as before, but we use `nn.Conv2d` for the convolutional layers and `nn.MaxPool2d` for the max-pooling layer. (Although max-pooling has fallen out of favor recently, but this is traditional so let's stick with it.)\n",
    "\n",
    "So here I'll build a convolutional network with two convolutional layers, with ReLU activations, and max-pooling after each. The first convolutional layer will have a depth of 10, use a 5x5 kernel, with a stride of 1 (so no downsampling). The second convolutional layer will have a depth of 20, use a 5x5 kernel, and a stride of 1 again. Both layers will have \"same\" padding, but it's done differently here than in TensorFlow. Instead of saying we want \"same\" padding and letting the framework pad the input tensors, we define how much padding we want on the tensors. The padding should be set to 2 then, since we are using 5x5 kernels and we want the center of the kernel to lie on the edges of the images. Then, there will be two pixels of the kernel falling over the edge of the images.\n",
    "\n",
    "We'll flatten the final convolutional layer and pass it to a fully connected layer. We can change the shape of the Variable `x` with `x.view`. This is then passed to the fully connected layer, which then goes to the output layer with 10 units."
   ]
  },
  {
   "cell_type": "code",
   "execution_count": 18,
   "metadata": {
    "collapsed": true
   },
   "outputs": [],
   "source": [
    "class ConvNet(nn.Module):\n",
    "    def __init__(self, n_conv1=10, n_conv2=20):\n",
    "        super().__init__()\n",
    "        \n",
    "        self.n_conv1, self.n_conv2 = n_conv1, n_conv2\n",
    "        \n",
    "        # conv layer with depth n_conv1, 5x5 kernels, and \"same\" padding\n",
    "        self.conv1 = nn.Conv2d(1, n_conv1, 5, padding=2)\n",
    "        # conv layer with depth n_conv2, 5x5 kernels, and \"same\" padding\n",
    "        self.conv2 = nn.Conv2d(n_conv1, n_conv2, 5, padding=2)\n",
    "        self.pool = nn.MaxPool2d(2, 2)\n",
    "        \n",
    "        # The second convolutional layer will have size [7, 7, n_conv2], fc1 flattens it\n",
    "        self.fc1 = nn.Linear(n_conv2*7*7, 50)\n",
    "        self.fc2 = nn.Linear(50, 10)\n",
    "    \n",
    "    def forward(self, x):\n",
    "        # First conv layer, then ReLU, then max-pooling\n",
    "        x = F.relu(self.pool(self.conv1(x)))\n",
    "        # Second conv layer, then ReLU, then max-pooling\n",
    "        x = F.relu(self.pool(self.conv2(x)))\n",
    "        # Flatten conv layer by reshaping\n",
    "        x = x.view(-1, self.n_conv2*7*7)\n",
    "        # Fully connected layers\n",
    "        x = F.relu(self.fc1(x))\n",
    "        x = self.fc2(x)\n",
    "        #x = F.relu(self.fc3(x))\n",
    "        \n",
    "        return x\n",
    "    \n",
    "    def predict(self, x):\n",
    "        logits = self.forward(x)\n",
    "        return F.softmax(logits)"
   ]
  },
  {
   "cell_type": "code",
   "execution_count": 19,
   "metadata": {},
   "outputs": [
    {
     "name": "stderr",
     "output_type": "stream",
     "text": [
      "/home/shane/anaconda3/envs/robo-env/lib/python3.5/site-packages/ipykernel_launcher.py:44: UserWarning: volatile was removed and now has no effect. Use `with torch.no_grad():` instead.\n",
      "/home/shane/anaconda3/envs/robo-env/lib/python3.5/site-packages/ipykernel_launcher.py:33: UserWarning: Implicit dimension choice for softmax has been deprecated. Change the call to include dim=X as an argument.\n"
     ]
    },
    {
     "name": "stdout",
     "output_type": "stream",
     "text": [
      "Epoch: 1/1.. Loss: 2.1134.. Test accuracy: 0.5948.. 0.0809 s/batch\n",
      "Epoch: 1/1.. Loss: 1.1902.. Test accuracy: 0.7875.. 0.0773 s/batch\n",
      "Epoch: 1/1.. Loss: 0.6439.. Test accuracy: 0.8699.. 0.0769 s/batch\n",
      "Epoch: 1/1.. Loss: 0.4718.. Test accuracy: 0.8917.. 0.0777 s/batch\n",
      "Epoch: 1/1.. Loss: 0.3621.. Test accuracy: 0.9038.. 0.0787 s/batch\n",
      "Epoch: 1/1.. Loss: 0.3115.. Test accuracy: 0.9249.. 0.0771 s/batch\n",
      "Epoch: 1/1.. Loss: 0.3020.. Test accuracy: 0.9304.. 0.0770 s/batch\n",
      "Epoch: 1/1.. Loss: 0.2289.. Test accuracy: 0.9356.. 0.0769 s/batch\n",
      "Epoch: 1/1.. Loss: 0.2260.. Test accuracy: 0.9397.. 0.0768 s/batch\n",
      "Epoch: 1/1.. Loss: 0.1842.. Test accuracy: 0.9468.. 0.0769 s/batch\n",
      "Epoch: 1/1.. Loss: 0.1760.. Test accuracy: 0.9383.. 0.0771 s/batch\n",
      "Epoch: 1/1.. Loss: 0.1968.. Test accuracy: 0.9532.. 0.0772 s/batch\n",
      "Epoch: 1/1.. Loss: 0.1767.. Test accuracy: 0.9567.. 0.0771 s/batch\n",
      "Epoch: 1/1.. Loss: 0.1774.. Test accuracy: 0.9541.. 0.0772 s/batch\n",
      "Epoch: 1/1.. Loss: 0.1299.. Test accuracy: 0.9609.. 0.0817 s/batch\n",
      "Epoch: 1/1.. Loss: 0.1332.. Test accuracy: 0.9627.. 0.0773 s/batch\n",
      "Epoch: 1/1.. Loss: 0.1350.. Test accuracy: 0.9638.. 0.0774 s/batch\n",
      "Epoch: 1/1.. Loss: 0.1386.. Test accuracy: 0.9641.. 0.0774 s/batch\n",
      "Epoch: 1/1.. Loss: 0.1383.. Test accuracy: 0.9700.. 0.0775 s/batch\n",
      "Epoch: 1/1.. Loss: 0.1072.. Test accuracy: 0.9714.. 0.0787 s/batch\n",
      "Epoch: 1/1.. Loss: 0.1322.. Test accuracy: 0.9682.. 0.0775 s/batch\n",
      "Epoch: 1/1.. Loss: 0.1119.. Test accuracy: 0.9705.. 0.0772 s/batch\n",
      "Epoch: 1/1.. Loss: 0.1087.. Test accuracy: 0.9701.. 0.0775 s/batch\n"
     ]
    }
   ],
   "source": [
    "# Download and load the training data\n",
    "trainset = datasets.MNIST('MNIST_data/', download=True, train=True, transform=transform)\n",
    "trainloader = torch.utils.data.DataLoader(trainset, batch_size=128, shuffle=True)\n",
    "\n",
    "# Download and load the test data\n",
    "testset = datasets.MNIST('MNIST_data/', download=True, train=False, transform=transform)\n",
    "testloader = torch.utils.data.DataLoader(testset, batch_size=128, shuffle=True)\n",
    "\n",
    "net = ConvNet()\n",
    "criterion = nn.CrossEntropyLoss()\n",
    "optimizer = optim.Adam(net.parameters(), lr=0.001)\n",
    "\n",
    "\n",
    "\n",
    "epochs = 1\n",
    "steps = 0\n",
    "running_loss = 0\n",
    "print_every = 20\n",
    "for e in range(epochs):\n",
    "    start = time.time()\n",
    "    for images, labels in iter(trainloader):\n",
    "        \n",
    "        steps += 1\n",
    "\n",
    "        inputs = Variable(images)\n",
    "        targets = Variable(labels)\n",
    "        optimizer.zero_grad()\n",
    "        \n",
    "        output = net.forward(inputs)\n",
    "        loss = criterion(output, targets)\n",
    "        loss.backward()\n",
    "        optimizer.step()\n",
    "        \n",
    "        #running_loss += loss.data[0]\n",
    "        running_loss += loss.item()\n",
    "        \n",
    "        if steps % print_every == 0:\n",
    "            stop = time.time()\n",
    "            # Test accuracy\n",
    "            accuracy = 0\n",
    "            for ii, (images, labels) in enumerate(testloader):\n",
    "                \n",
    "                #images = images.resize_(images.size()[0], 784)\n",
    "                inputs = Variable(images, volatile=True)\n",
    "                \n",
    "                predicted = net.predict(inputs).data\n",
    "                equality = (labels == predicted.max(1)[1])\n",
    "                accuracy += equality.type_as(torch.FloatTensor()).mean()\n",
    "            \n",
    "            print(\"Epoch: {}/{}..\".format(e+1, epochs),\n",
    "                  \"Loss: {:.4f}..\".format(running_loss/print_every),\n",
    "                  \"Test accuracy: {:.4f}..\".format(accuracy/(ii+1)),\n",
    "                  \"{:.4f} s/batch\".format((stop - start)/print_every)\n",
    "                 )\n",
    "            running_loss = 0\n",
    "            start = time.time()"
   ]
  },
  {
   "cell_type": "markdown",
   "metadata": {},
   "source": [
    "## Speeding things up\n",
    "\n",
    "We can greatly speed up our training by running the matrix operations on a GPU with CUDA. In PyTorch, we do this by sending the tensors to the GPU. First, you set the network to use the GPU with `net.cuda()`. Then, the input and target tensors are sent to the GPU, typically with some flag\n",
    "\n",
    "```\n",
    "if cuda == True:\n",
    "    inputs, targets = inputs.cuda(), targets.cuda()\n",
    "```\n",
    "\n",
    "And that's it. The output of the network will again be a tensor on the GPU, so to get it back to the CPU for further operations (such as with Numpy), you use `output = output.cpu()`. Similarly, to set the network back to running on the CPU, use `net.cpu()`."
   ]
  },
  {
   "cell_type": "code",
   "execution_count": 20,
   "metadata": {},
   "outputs": [
    {
     "ename": "NameError",
     "evalue": "name 'running_los' is not defined",
     "output_type": "error",
     "traceback": [
      "\u001b[0;31m---------------------------------------------------------------------------\u001b[0m",
      "\u001b[0;31mNameError\u001b[0m                                 Traceback (most recent call last)",
      "\u001b[0;32m<ipython-input-20-62d092dabbd9>\u001b[0m in \u001b[0;36m<module>\u001b[0;34m\u001b[0m\n\u001b[1;32m     37\u001b[0m \u001b[0;34m\u001b[0m\u001b[0m\n\u001b[1;32m     38\u001b[0m         \u001b[0;31m#running_loss += loss.data[0]\u001b[0m\u001b[0;34m\u001b[0m\u001b[0;34m\u001b[0m\u001b[0m\n\u001b[0;32m---> 39\u001b[0;31m         \u001b[0mrunning_los\u001b[0m \u001b[0;34m+=\u001b[0m \u001b[0mloss\u001b[0m\u001b[0;34m.\u001b[0m\u001b[0mitem\u001b[0m\u001b[0;34m(\u001b[0m\u001b[0;34m)\u001b[0m\u001b[0;34m\u001b[0m\u001b[0m\n\u001b[0m\u001b[1;32m     40\u001b[0m \u001b[0;34m\u001b[0m\u001b[0m\n\u001b[1;32m     41\u001b[0m         \u001b[0;32mif\u001b[0m \u001b[0msteps\u001b[0m \u001b[0;34m%\u001b[0m \u001b[0mprint_every\u001b[0m \u001b[0;34m==\u001b[0m \u001b[0;36m0\u001b[0m\u001b[0;34m:\u001b[0m\u001b[0;34m\u001b[0m\u001b[0m\n",
      "\u001b[0;31mNameError\u001b[0m: name 'running_los' is not defined"
     ]
    }
   ],
   "source": [
    "# Download and load the training data\n",
    "trainset = datasets.MNIST('MNIST_data/', download=True, train=True, transform=transform)\n",
    "trainloader = torch.utils.data.DataLoader(trainset, batch_size=128, shuffle=True)\n",
    "\n",
    "# Download and load the test data\n",
    "testset = datasets.MNIST('MNIST_data/', download=True, train=False, transform=transform)\n",
    "testloader = torch.utils.data.DataLoader(testset, batch_size=128, shuffle=True)\n",
    "\n",
    "net = ConvNet()\n",
    "criterion = nn.CrossEntropyLoss()\n",
    "optimizer = optim.Adam(net.parameters(), lr=0.001)\n",
    "\n",
    "net.cuda()\n",
    "\n",
    "#trainloader.batch_size = 128\n",
    "epochs = 5\n",
    "steps = 0\n",
    "running_loss = 0\n",
    "print_every = 50\n",
    "for e in range(epochs):\n",
    "    start = time.time()\n",
    "    for images, labels in iter(trainloader):\n",
    "        \n",
    "        steps += 1\n",
    "\n",
    "        inputs = Variable(images)\n",
    "        targets = Variable(labels)\n",
    "        \n",
    "        inputs, targets = inputs.cuda(), targets.cuda()\n",
    "        \n",
    "        optimizer.zero_grad()\n",
    "        \n",
    "        output = net.forward(inputs)\n",
    "        loss = criterion(output, targets)\n",
    "        loss.backward()\n",
    "        optimizer.step()\n",
    "        \n",
    "        #running_loss += loss.data[0]\n",
    "        running_loss += loss.item()\n",
    "        \n",
    "        if steps % print_every == 0:\n",
    "            stop = time.time()\n",
    "            # Test accuracy\n",
    "            accuracy = 0\n",
    "            for ii, (images, labels) in enumerate(testloader):\n",
    "                \n",
    "                inputs = Variable(images, volatile=True)\n",
    "                inputs = inputs.cuda()\n",
    "                \n",
    "                # Get the class prediction and bring it back to the CPU\n",
    "                predicted = net.predict(inputs).data.cpu()\n",
    "                equality = (labels == predicted.max(1)[1])\n",
    "                accuracy += equality.type_as(torch.FloatTensor()).mean()\n",
    "            \n",
    "            print(\"Epoch: {}/{}..\".format(e+1, epochs),\n",
    "                  \"Loss: {:.4f}..\".format(running_loss/print_every),\n",
    "                  \"Test accuracy: {:.4f}..\".format(accuracy/(ii+1)),\n",
    "                  \"{:.4f} s/batch\".format((stop - start)/print_every)\n",
    "                 )\n",
    "            running_loss = 0\n",
    "            start = time.time()"
   ]
  },
  {
   "cell_type": "markdown",
   "metadata": {},
   "source": [
    "## Saving and loading models\n",
    "\n",
    "Now that we know how to build and train models, we actually need to be able to use these things after training. The general way to do this is building a dictionary with hyperparameters such as sizes of the convolutional layers and such. The parameters and other information needed to rebuild the model are stored in `net.state_dict()`. Then you build a dictionary that looks something like\n",
    "\n",
    "```python\n",
    "checkpoint = {'n_conv1': 10,\n",
    "              'n_conv2': 20,\n",
    "              'state_dict': model.state_dict()}\n",
    "```\n",
    "\n",
    "You save this check point to a file with `torch.save(checkpoint, file_object)`.\n",
    "\n",
    "Then, to load a checkpoint, use `torch.load`. This loads the whole dictionary so you have the hyperparameters to rebuild the network as well as `state_dict` which contains the values for weights and such."
   ]
  },
  {
   "cell_type": "code",
   "execution_count": null,
   "metadata": {
    "collapsed": true
   },
   "outputs": [],
   "source": [
    "## Save the model\n",
    "filename = 'mnist1.ckpt'\n",
    "checkpoint = {'n_conv1': net.n_conv1,\n",
    "              'n_conv2': net.n_conv2,\n",
    "              'state_dict': net.state_dict()}\n",
    "with open(filename, 'wb') as f:\n",
    "    torch.save(checkpoint, f)"
   ]
  },
  {
   "cell_type": "code",
   "execution_count": null,
   "metadata": {
    "collapsed": true
   },
   "outputs": [],
   "source": [
    "## Load the model\n",
    "filename = 'mnist1.ckpt'\n",
    "with open(filename, 'rb') as f:\n",
    "        checkpoint = torch.load(f)\n",
    "\n",
    "model = ConvNet(n_conv1=checkpoint['n_conv1'],\n",
    "                n_conv2=checkpoint['n_conv2'])\n",
    "model.load_state_dict(checkpoint['state_dict'])"
   ]
  },
  {
   "cell_type": "code",
   "execution_count": null,
   "metadata": {
    "collapsed": true
   },
   "outputs": [],
   "source": [
    "dataiter = iter(testloader)"
   ]
  },
  {
   "cell_type": "code",
   "execution_count": null,
   "metadata": {
    "collapsed": true
   },
   "outputs": [],
   "source": [
    "images, labels = dataiter.next()\n",
    "img = images[0]\n",
    "ps = model.predict(Variable(img.resize_(1, *img.size())))\n",
    "helper.view_classify(img, ps)"
   ]
  }
 ],
 "metadata": {
  "kernelspec": {
   "display_name": "robo-env",
   "language": "python",
   "name": "robo-env"
  },
  "language_info": {
   "codemirror_mode": {
    "name": "ipython",
    "version": 3
   },
   "file_extension": ".py",
   "mimetype": "text/x-python",
   "name": "python",
   "nbconvert_exporter": "python",
   "pygments_lexer": "ipython3",
   "version": "3.5.2"
  }
 },
 "nbformat": 4,
 "nbformat_minor": 2
}
